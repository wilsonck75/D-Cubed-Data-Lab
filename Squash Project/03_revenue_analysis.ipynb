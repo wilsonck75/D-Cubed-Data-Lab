{
 "cells": [
  {
   "cell_type": "markdown",
   "id": "7cd3339e",
   "metadata": {},
   "source": [
    "# Revenue Analysis\n",
    "\n",
    "Analyze revenue performance across user segments."
   ]
  },
  {
   "cell_type": "code",
   "execution_count": null,
   "id": "f0d9a624",
   "metadata": {},
   "outputs": [],
   "source": [
    "# 📦 Import required libraries\n",
    "import pandas as pd\n",
    "import numpy as np\n",
    "import seaborn as sns\n",
    "import matplotlib.pyplot as plt\n",
    "from datetime import datetime\n",
    "%matplotlib inline\n"
   ]
  },
  {
   "cell_type": "markdown",
   "id": "41643628",
   "metadata": {},
   "source": [
    "## Revenue Breakdown and Aggregation"
   ]
  },
  {
   "cell_type": "code",
   "execution_count": null,
   "id": "9f665b88",
   "metadata": {},
   "outputs": [],
   "source": [
    "# Step 1: Group and calculate total revenue per Session Type\n",
    "session_revenue = df.groupby('Session Type')['Price Paid'].sum().reset_index()\n",
    "\n",
    "# Step 2: Calculate revenue percentage\n",
    "session_revenue['Revenue %'] = 100 * session_revenue['Price Paid'] / session_revenue['Price Paid'].sum()\n",
    "\n",
    "# Step 3: Sort (optional)\n",
    "session_revenue = session_revenue.sort_values('Revenue %', ascending=False)\n",
    "\n",
    "# Step 4: Plot\n",
    "plt.figure(figsize=(10, 6))\n",
    "sns.barplot(data=session_revenue, x='Session Type', y='Revenue %', palette='viridis')\n",
    "plt.title('Revenue Share by Session Type')\n",
    "plt.ylabel('Revenue Share (%)')\n",
    "plt.xlabel('Session Type')\n",
    "plt.xticks(rotation=45, ha='right')\n",
    "plt.tight_layout()\n",
    "plt.show()\n",
    "session_revenue.head()"
   ]
  },
  {
   "cell_type": "code",
   "execution_count": null,
   "id": "b9c270e0",
   "metadata": {},
   "outputs": [],
   "source": [
    "# Format revenue columns with no decimals and transaction columns with one decimal\n",
    "formatted_group_stats = group_stats.copy()\n",
    "formatted_group_stats['Total_Revenue'] = formatted_group_stats['Total_Revenue'].map('${:,.0f}'.format)\n",
    "formatted_group_stats['Avg_Revenue'] = formatted_group_stats['Avg_Revenue'].map('${:,.0f}'.format)\n",
    "formatted_group_stats['Median_Revenue'] = formatted_group_stats['Median_Revenue'].map('${:,.0f}'.format)\n",
    "formatted_group_stats['Min_Revenue'] = formatted_group_stats['Min_Revenue'].map('${:,.0f}'.format)\n",
    "formatted_group_stats['Max_Revenue'] = formatted_group_stats['Max_Revenue'].map('${:,.0f}'.format)\n",
    "formatted_group_stats['Std_Revenue'] = formatted_group_stats['Std_Revenue'].map('${:,.0f}'.format)\n",
    "\n",
    "# Transaction columns to 1 decimal\n",
    "transaction_cols = ['Avg_Transactions', 'Median_Transactions', 'Min_Transactions', 'Max_Transactions', 'Std_Transactions']\n",
    "for col in transaction_cols:\n",
    "    formatted_group_stats[col] = formatted_group_stats[col].map('{:.1f}'.format)\n",
    "\n",
    "# Revenue share as percentage with 1 decimal\n",
    "formatted_group_stats['Revenue_Share'] = formatted_group_stats['Revenue_Share'].map('{:.1f}%'.format)\n",
    "\n",
    "# Format overall summary as well\n",
    "formatted_overall_summary = overall_summary.copy()\n",
    "formatted_overall_summary['Total_Revenue'] = formatted_overall_summary['Total_Revenue'].map('${:,.0f}'.format)\n",
    "formatted_overall_summary['Avg_Revenue_per_User'] = formatted_overall_summary['Avg_Revenue_per_User'].map('${:,.0f}'.format)\n",
    "formatted_overall_summary['Median_Revenue_per_User'] = formatted_overall_summary['Median_Revenue_per_User'].map('${:,.0f}'.format)\n",
    "formatted_overall_summary['Avg_Transactions_per_User'] = formatted_overall_summary['Avg_Transactions_per_User'].map('{:.1f}'.format)\n",
    "formatted_overall_summary['Median_Transactions_per_User'] = formatted_overall_summary['Median_Transactions_per_User'].map('{:.1f}'.format)\n",
    "\n",
    "# Generate HTML tables\n",
    "group_html = formatted_group_stats.to_html(index=False, escape=False)\n",
    "overall_html = formatted_overall_summary.to_html(index=False, escape=False)\n",
    "\n",
    "# Combine and display\n",
    "full_html = f\"<h2>Overall Summary</h2>{overall_html}<br><h2>Group-Level Summary</h2>{group_html}\"\n",
    "display(HTML(full_html))\n",
    "output_path = '/content/drive/MyDrive/SOF Data Analysis/user_summary_report.xlsx'\n",
    "with pd.ExcelWriter(output_path, engine='xlsxwriter') as writer:\n",
    "    # Write unformatted numeric versions for clean Excel export\n",
    "    overall_summary.to_excel(writer, sheet_name='Overall Summary', index=False)\n",
    "    group_stats.to_excel(writer, sheet_name='Group-Level Summary', index=False)\n",
    "\n",
    "print(f\"Excel file saved to: {output_path}\")"
   ]
  },
  {
   "cell_type": "code",
   "execution_count": null,
   "id": "23f5b7c6",
   "metadata": {},
   "outputs": [],
   "source": [
    "LOW_CUTOFF = 190\n",
    "HIGH_CUTOFF = 960\n",
    "\n",
    "def classify_final(rev):\n",
    "    if rev >= HIGH_CUTOFF:\n",
    "        return 'Heavy'\n",
    "    elif rev >= LOW_CUTOFF:\n",
    "        return 'Medium'\n",
    "    else:\n",
    "        return 'Light'\n",
    "\n",
    "final_user_groups = user_revenue.apply(classify_final)"
   ]
  },
  {
   "cell_type": "code",
   "execution_count": null,
   "id": "2dab266c",
   "metadata": {},
   "outputs": [],
   "source": [
    "# We'll compute total weighted average revenue per user across all groups for each cutoff\n",
    "# This can help identify which cutoffs give you the highest per-user revenue impact\n",
    "\n",
    "# First, get total revenue and total users per cutoff (all groups combined)\n",
    "summary_per_cutoff = all_results.groupby('Cutoffs').agg(\n",
    "    Total_Revenue_All=('Total_Revenue', 'sum'),\n",
    "    Total_Users_All=('Num_Users', 'sum')\n",
    ")\n",
    "\n",
    "# Compute overall average revenue per user for each cutoff combination\n",
    "summary_per_cutoff['Avg_Revenue_per_User_Overall'] = summary_per_cutoff['Total_Revenue_All'] / summary_per_cutoff['Total_Users_All']\n",
    "\n",
    "# Sort to find top 10 cutoff combinations by average revenue per user\n",
    "top_cutoffs_by_avg_rev = summary_per_cutoff.sort_values(by='Avg_Revenue_per_User_Overall', ascending=False).head(10)\n",
    "\n",
    "top_cutoffs_by_avg_rev.reset_index(inplace=True)\n",
    "import ace_tools as tools\n",
    "tools.display_dataframe_to_user(name=\"Top Cutoffs by Avg Revenue per User\", dataframe=top_cutoffs_by_avg_rev)"
   ]
  }
 ],
 "metadata": {},
 "nbformat": 4,
 "nbformat_minor": 5
}
