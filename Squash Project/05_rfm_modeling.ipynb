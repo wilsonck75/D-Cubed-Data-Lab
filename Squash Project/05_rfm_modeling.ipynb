{
 "cells": [
  {
   "cell_type": "markdown",
   "id": "997aae72",
   "metadata": {},
   "source": [
    "# RFM Modeling and Classification\n",
    "\n",
    "Run RFM analysis and classify users with Random Forest."
   ]
  },
  {
   "cell_type": "code",
   "execution_count": null,
   "id": "056e76c5",
   "metadata": {},
   "outputs": [],
   "source": [
    "# 📦 Import required libraries\n",
    "import pandas as pd\n",
    "import numpy as np\n",
    "import seaborn as sns\n",
    "import matplotlib.pyplot as plt\n",
    "from datetime import datetime\n",
    "%matplotlib inline\n",
    "# 🤖 Additional libraries for modeling\n",
    "from sklearn.cluster import KMeans\n",
    "from sklearn.ensemble import RandomForestClassifier\n",
    "from sklearn.preprocessing import StandardScaler\n",
    "from sklearn.metrics import classification_report, confusion_matrix\n"
   ]
  },
  {
   "cell_type": "markdown",
   "id": "a64073ce",
   "metadata": {},
   "source": [
    "## RFM Analysis and Modeling"
   ]
  },
  {
   "cell_type": "code",
   "execution_count": null,
   "id": "24c952f4",
   "metadata": {},
   "outputs": [],
   "source": [
    "latest_date = df['Session Date'].max()\n",
    "rfm = df.groupby('Full Name').agg(\n",
    "    Recency=('Session Date', lambda x: (latest_date - x.max()).days),\n",
    "    Frequency=('Session Date', 'count'),\n",
    "    Monetary=('Price Paid', 'sum')\n",
    ").reset_index()"
   ]
  },
  {
   "cell_type": "code",
   "execution_count": null,
   "id": "c8bed0e6",
   "metadata": {},
   "outputs": [],
   "source": [
    "rfm.head()"
   ]
  }
 ],
 "metadata": {},
 "nbformat": 4,
 "nbformat_minor": 5
}
