{
 "cells": [
  {
   "cell_type": "markdown",
   "id": "437671a3",
   "metadata": {},
   "source": [
    "# 📥 01 – Data Acquisition"
   ]
  },
  {
   "cell_type": "markdown",
   "id": "9369e21a",
   "metadata": {},
   "source": [
    "This notebook pulls EM equity and macroeconomic time series data from Bloomberg using the BQL API."
   ]
  },
  {
   "cell_type": "code",
   "execution_count": 1,
   "id": "1ffff549",
   "metadata": {},
   "outputs": [
    {
     "ename": "ModuleNotFoundError",
     "evalue": "No module named 'bql'",
     "output_type": "error",
     "traceback": [
      "\u001b[0;31m---------------------------------------------------------------------------\u001b[0m",
      "\u001b[0;31mModuleNotFoundError\u001b[0m                       Traceback (most recent call last)",
      "Cell \u001b[0;32mIn[1], line 2\u001b[0m\n\u001b[1;32m      1\u001b[0m \u001b[38;5;28;01mimport\u001b[39;00m\u001b[38;5;250m \u001b[39m\u001b[38;5;21;01mpandas\u001b[39;00m\u001b[38;5;250m \u001b[39m\u001b[38;5;28;01mas\u001b[39;00m\u001b[38;5;250m \u001b[39m\u001b[38;5;21;01mpd\u001b[39;00m\n\u001b[0;32m----> 2\u001b[0m \u001b[38;5;28;01mimport\u001b[39;00m\u001b[38;5;250m \u001b[39m\u001b[38;5;21;01mbql\u001b[39;00m\n\u001b[1;32m      3\u001b[0m \u001b[38;5;28;01mimport\u001b[39;00m\u001b[38;5;250m \u001b[39m\u001b[38;5;21;01mos\u001b[39;00m\n\u001b[1;32m      5\u001b[0m bq \u001b[38;5;241m=\u001b[39m bql\u001b[38;5;241m.\u001b[39mService()\n",
      "\u001b[0;31mModuleNotFoundError\u001b[0m: No module named 'bql'"
     ]
    }
   ],
   "source": [
    "\n",
    "import pandas as pd\n",
    "import bql\n",
    "import os\n",
    "\n",
    "bq = bql.Service()\n",
    "date_range = bq.func.range('-1Y', '0D')\n",
    "\n",
    "em_assets = {\n",
    "    'Brazil_EWZ': 'EWZ US Equity',\n",
    "    'India_INDA': 'INDA US Equity',\n",
    "    'China_FXI': 'FXI US Equity',\n",
    "    'SouthAfrica_EZA': 'EZA US Equity',\n",
    "    'Mexico_EWW': 'EWW US Equity',\n",
    "    'Indonesia_EIDO': 'EIDO US Equity'\n",
    "}\n",
    "\n",
    "em_data = {}\n",
    "for label, ticker in em_assets.items():\n",
    "    data_item = bq.data.px_last(dates=date_range, fill='prev')\n",
    "    request = bql.Request(ticker, data_item)\n",
    "    response = bq.execute(request)\n",
    "    df = response[0].df()\n",
    "    px_col = [col for col in df.columns if 'PX_LAST' in col.upper()][0]\n",
    "    df = df[['DATE', px_col]]\n",
    "    df.columns = ['date', label]\n",
    "    df.set_index('date', inplace=True)\n",
    "    em_data[label] = df\n",
    "\n",
    "em_df = pd.concat(em_data.values(), axis=1)\n",
    "\n",
    "macro_assets = {\n",
    "    'USD_Index': 'DXY Curncy',\n",
    "    'Oil_Brent': 'CO1 Comdty',\n",
    "    'US_10Y_Yield': 'USGG10YR Index',\n",
    "    'Fed_Funds': 'FDTR Index',\n",
    "    'VIX': 'VIX Index',\n",
    "    'Copper': 'LMCADY Comdty'\n",
    "}\n",
    "\n",
    "macro_data = {}\n",
    "for label, ticker in macro_assets.items():\n",
    "    data_item = bq.data.px_last(dates=date_range, fill='prev')\n",
    "    request = bql.Request(ticker, data_item)\n",
    "    response = bq.execute(request)\n",
    "    df = response[0].df()\n",
    "    px_col = [col for col in df.columns if 'PX_LAST' in col.upper()][0]\n",
    "    df = df[['DATE', px_col]]\n",
    "    df.columns = ['date', label]\n",
    "    df.set_index('date', inplace=True)\n",
    "    macro_data[label] = df\n",
    "\n",
    "macro_df = pd.concat(macro_data.values(), axis=1)\n",
    "combined_df = pd.merge(em_df, macro_df, left_index=True, right_index=True)\n",
    "combined_df = combined_df.sort_index().dropna()\n",
    "\n",
    "os.makedirs('../data', exist_ok=True)\n",
    "combined_df.to_csv('../data/combined_em_macro_data.csv')\n",
    "combined_df.head()\n"
   ]
  },
  {
   "cell_type": "code",
   "execution_count": null,
   "id": "35ddf075",
   "metadata": {},
   "outputs": [],
   "source": []
  }
 ],
 "metadata": {
  "kernelspec": {
   "display_name": ".venv",
   "language": "python",
   "name": "python3"
  },
  "language_info": {
   "codemirror_mode": {
    "name": "ipython",
    "version": 3
   },
   "file_extension": ".py",
   "mimetype": "text/x-python",
   "name": "python",
   "nbconvert_exporter": "python",
   "pygments_lexer": "ipython3",
   "version": "3.10.16"
  }
 },
 "nbformat": 4,
 "nbformat_minor": 5
}
