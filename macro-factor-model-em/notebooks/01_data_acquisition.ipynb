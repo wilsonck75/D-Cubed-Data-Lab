{
 "cells": [
  {
   "cell_type": "markdown",
   "id": "437671a3",
   "metadata": {},
   "source": [
    "# 📥 01 – Data Acquisition"
   ]
  },
  {
   "cell_type": "markdown",
   "id": "9369e21a",
   "metadata": {},
   "source": [
    "## Overview\n",
    "\n",
    "This notebook pulls **Emerging Markets (EM) equity** and **macroeconomic time series data** from Bloomberg using the BQL API. \n",
    "\n",
    "### Data Sources:\n",
    "- **EM ETFs**: 6 major emerging market equity ETFs representing different regions\n",
    "- **Macro Factors**: 6 key macroeconomic indicators that typically drive EM performance\n",
    "- **Time Period**: Last 3 years of daily data\n",
    "- **Data Quality**: Forward-filled to handle missing values\n",
    "\n",
    "### Purpose:\n",
    "The collected data will be used for factor modeling analysis to understand how macroeconomic variables influence emerging market equity performance."
   ]
  },
  {
   "cell_type": "markdown",
   "id": "fb6bf53d",
   "metadata": {},
   "source": [
    "## 📦 Import Required Libraries\n",
    "\n",
    "We need the following libraries:\n",
    "- **pandas**: For data manipulation and analysis\n",
    "- **bql**: Bloomberg Query Language API for data extraction\n",
    "- **os**: For directory operations and file management"
   ]
  },
  {
   "cell_type": "code",
   "execution_count": null,
   "id": "f1c21174",
   "metadata": {},
   "outputs": [],
   "source": [
    "# Core data manipulation library\n",
    "import pandas as pd\n",
    "\n",
    "# Bloomberg Query Language API\n",
    "import bql\n",
    "\n",
    "# Operating system interface for file operations\n",
    "import os"
   ]
  },
  {
   "cell_type": "markdown",
   "id": "771d93a2",
   "metadata": {},
   "source": [
    "## 🔗 Bloomberg API Setup\n",
    "\n",
    "Initialize the Bloomberg Query Language service and set up the date range for data extraction."
   ]
  },
  {
   "cell_type": "code",
   "execution_count": null,
   "id": "ffe0a84d",
   "metadata": {},
   "outputs": [],
   "source": [
    "# Initialize Bloomberg Query Language service\n",
    "bq = bql.Service()\n",
    "\n",
    "# Set date range: Last 3 years to current date\n",
    "date_range = bq.func.range('-3Y', '0D')"
   ]
  },
  {
   "cell_type": "markdown",
   "id": "b38488fa",
   "metadata": {},
   "source": [
    "## 🌏 Emerging Markets ETF Data\n",
    "\n",
    "Collect data for major Emerging Markets ETFs representing different geographic regions:\n",
    "\n",
    "| ETF | Ticker | Region/Focus |\n",
    "|-----|--------|--------------|\n",
    "| EWZ | Brazil | Latin America's largest economy |\n",
    "| INDA | India | South Asian technology and services hub |\n",
    "| FXI | China | World's second-largest economy |\n",
    "| EZA | South Africa | African markets representative |\n",
    "| EWW | Mexico | NAFTA/USMCA integration |\n",
    "| EIDO | Indonesia | Southeast Asian growth market |"
   ]
  },
  {
   "cell_type": "code",
   "execution_count": null,
   "id": "d1a49f27",
   "metadata": {},
   "outputs": [],
   "source": [
    "# Define EM ETF universe with descriptive labels\n",
    "em_assets = {\n",
    "    'Brazil_EWZ': 'EWZ US Equity',      # iShares MSCI Brazil ETF\n",
    "    'India_INDA': 'INDA US Equity',     # iShares MSCI India ETF  \n",
    "    'China_FXI': 'FXI US Equity',       # iShares China Large-Cap ETF\n",
    "    'SouthAfrica_EZA': 'EZA US Equity', # iShares MSCI South Africa ETF\n",
    "    'Mexico_EWW': 'EWW US Equity',      # iShares MSCI Mexico ETF\n",
    "    'Indonesia_EIDO': 'EIDO US Equity'  # iShares MSCI Indonesia ETF\n",
    "}\n",
    "\n",
    "# Initialize storage for EM equity data\n",
    "em_data = {}\n",
    "\n",
    "# Extract price data for each EM ETF\n",
    "for label, ticker in em_assets.items():\n",
    "    # Define data request: last price with forward fill for missing values\n",
    "    data_item = bq.data.px_last(dates=date_range, fill='prev')\n",
    "    request = bql.Request(ticker, data_item)\n",
    "    \n",
    "    # Execute Bloomberg query\n",
    "    response = bq.execute(request)\n",
    "    df = response[0].df()\n",
    "    \n",
    "    # Clean and standardize column names\n",
    "    px_col = [col for col in df.columns if 'PX_LAST' in col.upper()][0]\n",
    "    df = df[['DATE', px_col]]\n",
    "    df.columns = ['date', label]\n",
    "    df.set_index('date', inplace=True)\n",
    "    \n",
    "    # Store cleaned data\n",
    "    em_data[label] = df\n",
    "    print(f\"✓ Downloaded {label}: {len(df)} observations\")\n",
    "\n",
    "# Combine all EM ETF data into single DataFrame\n",
    "em_df = pd.concat(em_data.values(), axis=1)\n",
    "print(f\"\\n📊 EM ETF Dataset: {em_df.shape[0]} rows × {em_df.shape[1]} columns\")"
   ]
  },
  {
   "cell_type": "markdown",
   "id": "1c376448",
   "metadata": {},
   "source": [
    "## 📈 Macroeconomic Factors\n",
    "\n",
    "Collect key macroeconomic indicators that typically drive EM performance:\n",
    "\n",
    "| Factor | Ticker | Description | EM Impact |\n",
    "|--------|--------|-------------|-----------|\n",
    "| USD Index | DXY | Dollar strength vs. major currencies | **Negative**: Strong USD hurts EM |\n",
    "| Oil (Brent) | CO1 | Global energy prices | **Mixed**: Positive for exporters, negative for importers |\n",
    "| US 10Y Yield | USGG10YR | Risk-free rate benchmark | **Negative**: Higher yields reduce EM appeal |\n",
    "| Fed Funds | FDTR | US monetary policy rate | **Negative**: Tighter US policy hurts EM flows |\n",
    "| VIX | VIX | Market volatility/fear gauge | **Negative**: High volatility = risk-off sentiment |\n",
    "| Copper | LMCADY | Industrial metals proxy | **Positive**: Commodity demand indicator |"
   ]
  },
  {
   "cell_type": "code",
   "execution_count": null,
   "id": "215d2e49",
   "metadata": {},
   "outputs": [],
   "source": [
    "# Define macroeconomic factors universe\n",
    "macro_assets = {\n",
    "    'USD_Index': 'DXY Curncy',          # US Dollar Index\n",
    "    'Oil_Brent': 'CO1 Comdty',          # Brent Crude Oil Front Month\n",
    "    'US_10Y_Yield': 'USGG10YR Index',   # US Generic Govt 10Y Yield\n",
    "    'Fed_Funds': 'FDTR Index',          # Federal Funds Target Rate\n",
    "    'VIX': 'VIX Index',                 # CBOE Volatility Index\n",
    "    'Copper': 'LMCADY Comdty'           # LME Copper Grade A Cash\n",
    "}\n",
    "\n",
    "# Initialize storage for macro data\n",
    "macro_data = {}\n",
    "\n",
    "# Extract price data for each macro factor\n",
    "for label, ticker in macro_assets.items():\n",
    "    # Define data request: last price with forward fill\n",
    "    data_item = bq.data.px_last(dates=date_range, fill='prev')\n",
    "    request = bql.Request(ticker, data_item)\n",
    "    \n",
    "    # Execute Bloomberg query\n",
    "    response = bq.execute(request)\n",
    "    df = response[0].df()\n",
    "    \n",
    "    # Clean and standardize column names\n",
    "    px_col = [col for col in df.columns if 'PX_LAST' in col.upper()][0]\n",
    "    df = df[['DATE', px_col]]\n",
    "    df.columns = ['date', label]\n",
    "    df.set_index('date', inplace=True)\n",
    "    \n",
    "    # Store cleaned data\n",
    "    macro_data[label] = df\n",
    "    print(f\"✓ Downloaded {label}: {len(df)} observations\")\n",
    "\n",
    "# Combine all macro data into single DataFrame\n",
    "macro_df = pd.concat(macro_data.values(), axis=1)\n",
    "print(f\"\\n📊 Macro Dataset: {macro_df.shape[0]} rows × {macro_df.shape[1]} columns\")"
   ]
  },
  {
   "cell_type": "markdown",
   "id": "37069b27",
   "metadata": {},
   "source": [
    "## 🔄 Data Combination & Export\n",
    "\n",
    "Merge EM equity and macro datasets, clean the data, and save for analysis in subsequent notebooks."
   ]
  },
  {
   "cell_type": "code",
   "execution_count": null,
   "id": "ba4814a1",
   "metadata": {},
   "outputs": [],
   "source": [
    "# Merge EM equity and macro datasets on date index\n",
    "combined_df = pd.merge(em_df, macro_df, left_index=True, right_index=True, how='inner')\n",
    "\n",
    "# Clean the combined dataset\n",
    "combined_df = combined_df.sort_index().dropna()\n",
    "\n",
    "print(f\"📊 Combined Dataset Summary:\")\n",
    "print(f\"   • Time Period: {combined_df.index.min()} to {combined_df.index.max()}\")\n",
    "print(f\"   • Observations: {len(combined_df)} daily records\")\n",
    "print(f\"   • Variables: {combined_df.shape[1]} total ({len(em_assets)} EM + {len(macro_assets)} Macro)\")\n",
    "print(f\"   • Missing Values: {combined_df.isnull().sum().sum()}\")\n",
    "\n",
    "# Create data directory if it doesn't exist\n",
    "os.makedirs('../data', exist_ok=True)\n",
    "\n",
    "# Export to CSV for use in subsequent notebooks\n",
    "output_path = '../data/combined_em_macro_data.csv'\n",
    "combined_df.to_csv(output_path)\n",
    "print(f\"💾 Data saved to: {output_path}\")\n",
    "\n",
    "# Display first few rows as verification\n",
    "print(f\"\\n📋 Data Preview:\")\n",
    "combined_df.head()"
   ]
  }
 ],
 "metadata": {
  "kernelspec": {
   "display_name": ".venv",
   "language": "python",
   "name": "python3"
  },
  "language_info": {
   "codemirror_mode": {
    "name": "ipython",
    "version": 3
   },
   "file_extension": ".py",
   "mimetype": "text/x-python",
   "name": "python",
   "nbconvert_exporter": "python",
   "pygments_lexer": "ipython3",
   "version": "3.10.16"
  }
 },
 "nbformat": 4,
 "nbformat_minor": 5
}
