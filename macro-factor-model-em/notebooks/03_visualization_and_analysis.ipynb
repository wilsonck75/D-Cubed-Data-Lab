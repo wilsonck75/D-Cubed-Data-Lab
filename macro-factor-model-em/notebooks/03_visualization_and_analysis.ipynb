{
 "cells": [
  {
   "cell_type": "markdown",
   "id": "9355982d",
   "metadata": {},
   "source": [
    "# 📈 03 – Visualizations, Rolling Regression & Reusable Functions"
   ]
  },
  {
   "cell_type": "code",
   "execution_count": null,
   "id": "41d68876",
   "metadata": {},
   "outputs": [],
   "source": [
    "\n",
    "import pandas as pd\n",
    "import numpy as np\n",
    "import matplotlib.pyplot as plt\n",
    "import seaborn as sns\n",
    "from sklearn.linear_model import LinearRegression\n",
    "from sklearn.decomposition import PCA\n",
    "from sklearn.preprocessing import StandardScaler\n",
    "\n",
    "df = pd.read_csv('../data/combined_em_macro_data.csv', parse_dates=['date'], index_col='date')\n",
    "log_returns = np.log(df / df.shift(1)).dropna()\n",
    "\n",
    "em_cols = [c for c in df.columns if c.startswith(('Brazil', 'India', 'China', 'SouthAfrica', 'Mexico', 'Indonesia'))]\n",
    "macro_cols = [c for c in df.columns if c not in em_cols]\n",
    "\n",
    "Y_all = log_returns[em_cols]\n",
    "X_all = log_returns[macro_cols]\n",
    "\n",
    "def rolling_r2_scores(X, Y, window=60, n_components=3):\n",
    "    results = pd.DataFrame(index=Y.index[window:], columns=Y.columns)\n",
    "    for col in Y.columns:\n",
    "        for i in range(window, len(Y)):\n",
    "            X_window = X.iloc[i - window:i]\n",
    "            Y_window = Y[col].iloc[i - window:i]\n",
    "\n",
    "            scaler = StandardScaler()\n",
    "            X_scaled = scaler.fit_transform(X_window)\n",
    "            pca = PCA(n_components=n_components)\n",
    "            X_pca = pca.fit_transform(X_scaled)\n",
    "\n",
    "            model = LinearRegression().fit(X_pca, Y_window)\n",
    "            results.at[Y_window.index[-1], col] = model.score(X_pca, Y_window)\n",
    "\n",
    "    return results.astype(float)\n",
    "\n",
    "rolling_r2 = rolling_r2_scores(X_all, Y_all, window=60)\n",
    "\n",
    "sample_col = 'Brazil_EWZ'\n",
    "plt.figure(figsize=(10, 4))\n",
    "plt.plot(rolling_r2.index, rolling_r2[sample_col])\n",
    "plt.title(f'Rolling R²: {sample_col} vs Macro Factors (60-day PCA model)')\n",
    "plt.ylabel('R²')\n",
    "plt.grid(True)\n",
    "plt.tight_layout()\n",
    "plt.show()\n"
   ]
  }
 ],
 "metadata": {},
 "nbformat": 4,
 "nbformat_minor": 5
}